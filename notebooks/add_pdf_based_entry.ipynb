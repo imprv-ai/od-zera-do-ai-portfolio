{
 "cells": [
  {
   "cell_type": "code",
   "execution_count": 1,
   "metadata": {},
   "outputs": [],
   "source": [
    "from dotenv import dotenv_values\n",
    "from openai import OpenAI\n",
    "from pathlib import Path\n",
    "import json"
   ]
  },
  {
   "cell_type": "code",
   "execution_count": 2,
   "metadata": {},
   "outputs": [],
   "source": [
    "env = dotenv_values(Path(\".\") / \"..\" / \".env\")"
   ]
  },
  {
   "cell_type": "code",
   "execution_count": 3,
   "metadata": {},
   "outputs": [],
   "source": [
    "openai_client = OpenAI(api_key=env[\"OPENAI_API_KEY\"])"
   ]
  },
  {
   "cell_type": "code",
   "execution_count": 4,
   "metadata": {},
   "outputs": [],
   "source": [
    "PROJECTS_PATH = Path(\".\") / \"..\" / \"docs\" / \"projects\""
   ]
  },
  {
   "cell_type": "code",
   "execution_count": 6,
   "metadata": {},
   "outputs": [],
   "source": [
    "PAGE_PATH =  PROJECTS_PATH / \"eda_wroclaw_halfmarathon\" / \"eda_as_presentation\"\n",
    "PDF_NAME = \"eda.pdf\"\n",
    "PDF_PATH = PAGE_PATH / PDF_NAME\n",
    "\n",
    "with open(PAGE_PATH / \"notes.txt\", \"r\") as f:\n",
    "    NOTES = f.read()\n",
    "\n",
    "AUTHOR_NAME = \"Dariusz Samól\"\n",
    "AUTHOR_LINK = \"/od-zera-do-ai-portfolio/uczestnicy/dariusz_samol\""
   ]
  },
  {
   "cell_type": "markdown",
   "metadata": {},
   "source": [
    "## Opis projektu"
   ]
  },
  {
   "cell_type": "code",
   "execution_count": 7,
   "metadata": {},
   "outputs": [],
   "source": [
    "def add_title_and_description(text):\n",
    "\n",
    "    prompt = f\"\"\"\n",
    "Wygeneruj tytuł i opis do strony prezentującej projekt.\n",
    "Opis ma być wstępem przygotowującym czytelnika do zapoznania się z samym projektem.\n",
    "\n",
    "{text}\n",
    "    Zwróć obiekt JSON z kluczami \"title\" i \"description\".\n",
    "    \"\"\"\n",
    "\n",
    "    response = openai_client.chat.completions.create(\n",
    "        messages=[\n",
    "            {\"role\": \"user\", \"content\": prompt},\n",
    "        ],\n",
    "        model=\"gpt-4o\",\n",
    "        temperature=0,\n",
    "    )\n",
    "\n",
    "    result = response.choices[0].message.content.replace(\"```json\", \"\").replace(\"```\", \"\").strip()\n",
    "\n",
    "    return json.loads(result)"
   ]
  },
  {
   "cell_type": "code",
   "execution_count": 8,
   "metadata": {},
   "outputs": [],
   "source": [
    "title_and_desc = add_title_and_description(NOTES)"
   ]
  },
  {
   "cell_type": "markdown",
   "metadata": {},
   "source": [
    "## Wygeneruj index.md"
   ]
  },
  {
   "cell_type": "code",
   "execution_count": 9,
   "metadata": {},
   "outputs": [],
   "source": [
    "def render_content(title, description, author_name, author_link, pdf_link, pdf_height):\n",
    "\n",
    "    return f\"\"\"\n",
    "# {title}\n",
    "\n",
    "{description}\n",
    "\n",
    "**Autor**: [{author_name}]({author_link})\n",
    "\n",
    "<a href=\"{pdf_link}\" class=\"md-button md-button--primary\">Pobierz PDF</a>\n",
    "<iframe\n",
    "    id=\"content\"\n",
    "    src=\"{pdf_link}\"\n",
    "    width=\"100%\"\n",
    "    height=\"{pdf_height}px\"\n",
    "    style=\"border:1px solid black\"\n",
    "></iframe>\n",
    "\n",
    "\"\"\""
   ]
  },
  {
   "cell_type": "code",
   "execution_count": 10,
   "metadata": {},
   "outputs": [],
   "source": [
    "with open(PAGE_PATH / \"index.md\", \"w\") as f:\n",
    "    f.write(render_content(\n",
    "        title=title_and_desc[\"title\"],\n",
    "        description=title_and_desc[\"description\"],\n",
    "        author_name=AUTHOR_NAME,\n",
    "        author_link=AUTHOR_LINK,\n",
    "        pdf_link=PDF_NAME,\n",
    "        pdf_height=500\n",
    "    ))"
   ]
  },
  {
   "cell_type": "code",
   "execution_count": null,
   "metadata": {},
   "outputs": [],
   "source": []
  }
 ],
 "metadata": {
  "kernelspec": {
   "display_name": "od_zera_do_ai",
   "language": "python",
   "name": "python3"
  },
  "language_info": {
   "codemirror_mode": {
    "name": "ipython",
    "version": 3
   },
   "file_extension": ".py",
   "mimetype": "text/x-python",
   "name": "python",
   "nbconvert_exporter": "python",
   "pygments_lexer": "ipython3",
   "version": "3.11.9"
  }
 },
 "nbformat": 4,
 "nbformat_minor": 2
}
