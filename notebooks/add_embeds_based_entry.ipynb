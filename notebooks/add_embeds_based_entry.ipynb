{
 "cells": [
  {
   "cell_type": "code",
   "execution_count": 1,
   "metadata": {},
   "outputs": [],
   "source": [
    "from dotenv import dotenv_values\n",
    "from openai import OpenAI\n",
    "from pathlib import Path\n",
    "import json"
   ]
  },
  {
   "cell_type": "code",
   "execution_count": 2,
   "metadata": {},
   "outputs": [],
   "source": [
    "env = dotenv_values(Path(\".\") / \"..\" / \".env\")"
   ]
  },
  {
   "cell_type": "code",
   "execution_count": 3,
   "metadata": {},
   "outputs": [],
   "source": [
    "openai_client = OpenAI(api_key=env[\"OPENAI_API_KEY\"])"
   ]
  },
  {
   "cell_type": "code",
   "execution_count": 4,
   "metadata": {},
   "outputs": [],
   "source": [
    "PROJECTS_PATH = Path(\".\") / \"..\" / \"docs\" / \"projects\""
   ]
  },
  {
   "cell_type": "code",
   "execution_count": 10,
   "metadata": {},
   "outputs": [],
   "source": [
    "# PAGE_PATH =  PROJECTS_PATH / \"eda_wroclaw_halfmarathon\" / \"eda_extensive_with_video_comment\"\n",
    "\n",
    "# with open(PAGE_PATH / \"notes.txt\", \"r\") as f:\n",
    "#     NOTES = f.read()\n",
    "\n",
    "# AUTHOR_NAME = \"Dawid\"\n",
    "# AUTHOR_LINK = \"/od-zera-do-ai-portfolio/uczestnicy/dawid\""
   ]
  },
  {
   "cell_type": "code",
   "execution_count": 11,
   "metadata": {},
   "outputs": [],
   "source": [
    "# PAGE_PATH =  PROJECTS_PATH / \"eda_wroclaw_halfmarathon\" / \"eda_with_passion\"\n",
    "\n",
    "# with open(PAGE_PATH / \"notes.txt\", \"r\") as f:\n",
    "#     NOTES = f.read()\n",
    "\n",
    "# AUTHOR_NAME = \"Rafał Ney\"\n",
    "# AUTHOR_LINK = \"/od-zera-do-ai-portfolio/uczestnicy/rafal_ney\""
   ]
  },
  {
   "cell_type": "code",
   "execution_count": null,
   "metadata": {},
   "outputs": [],
   "source": [
    "# PAGE_PATH =  PROJECTS_PATH / \"eda_wroclaw_halfmarathon\" / \"eda_edge_cases\"\n",
    "\n",
    "# with open(PAGE_PATH / \"notes.txt\", \"r\") as f:\n",
    "#     NOTES = f.read()\n",
    "\n",
    "# AUTHOR_NAME = \"Andrzej\"\n",
    "# AUTHOR_LINK = \"/od-zera-do-ai-portfolio/uczestnicy/andrzej\""
   ]
  },
  {
   "cell_type": "code",
   "execution_count": 5,
   "metadata": {},
   "outputs": [],
   "source": [
    "PAGE_PATH =  PROJECTS_PATH / \"eda_wroclaw_halfmarathon\" / \"eda_tomasz_waniek_halfmarathon\"\n",
    "\n",
    "with open(PAGE_PATH / \"notes.txt\", \"r\") as f:\n",
    "    NOTES = f.read()\n",
    "\n",
    "AUTHOR_NAME = \"Tomasz Waniek\"\n",
    "AUTHOR_LINK = \"/od-zera-do-ai-portfolio/uczestnicy/tomasz_waniek\""
   ]
  },
  {
   "cell_type": "markdown",
   "metadata": {},
   "source": [
    "## Opis projektu"
   ]
  },
  {
   "cell_type": "code",
   "execution_count": 6,
   "metadata": {},
   "outputs": [],
   "source": [
    "def add_title_and_description(text):\n",
    "\n",
    "    prompt = f\"\"\"\n",
    "Wygeneruj tytuł i opis do strony prezentującej projekt.\n",
    "Opis ma być wstępem przygotowującym czytelnika do zapoznania się z samym projektem.\n",
    "\n",
    "{text}\n",
    "    Zwróć obiekt JSON z kluczami \"title\" i \"description\".\n",
    "    \"\"\"\n",
    "\n",
    "    response = openai_client.chat.completions.create(\n",
    "        messages=[\n",
    "            {\"role\": \"user\", \"content\": prompt},\n",
    "        ],\n",
    "        model=\"gpt-4o\",\n",
    "        temperature=0,\n",
    "    )\n",
    "\n",
    "    result = response.choices[0].message.content.replace(\"```json\", \"\").replace(\"```\", \"\").strip()\n",
    "\n",
    "    return json.loads(result)"
   ]
  },
  {
   "cell_type": "code",
   "execution_count": 7,
   "metadata": {},
   "outputs": [],
   "source": [
    "title_and_desc = add_title_and_description(NOTES)"
   ]
  },
  {
   "cell_type": "markdown",
   "metadata": {},
   "source": [
    "## Wygeneruj index.md"
   ]
  },
  {
   "cell_type": "code",
   "execution_count": 8,
   "metadata": {},
   "outputs": [],
   "source": [
    "def render_content(title, description, author_name, author_link, embeds):\n",
    "\n",
    "    return f\"\"\"\n",
    "# {title}\n",
    "\n",
    "{description}\n",
    "\n",
    "**Autor**: [{author_name}]({author_link})\n",
    "\n",
    "{embeds}\n",
    "\"\"\""
   ]
  },
  {
   "cell_type": "code",
   "execution_count": 9,
   "metadata": {},
   "outputs": [],
   "source": [
    "with open(PAGE_PATH / \"index.md\", \"w\") as f:\n",
    "    f.write(render_content(\n",
    "        title=title_and_desc[\"title\"],\n",
    "        description=title_and_desc[\"description\"],\n",
    "        author_name=AUTHOR_NAME,\n",
    "        author_link=AUTHOR_LINK,\n",
    "        embeds=\"\"\"\n",
    "<iframe\n",
    "    width=\"560\"\n",
    "    height=\"315\"\n",
    "    src=\"https://www.youtube.com/embed/nyeLLjYz31w?si=KRWPql8IVMJfjmix\"\n",
    "    title=\"YouTube video player\"\n",
    "    frameborder=\"0\"\n",
    "    allow=\"accelerometer; autoplay; clipboard-write; encrypted-media; gyroscope; picture-in-picture; web-share\" referrerpolicy=\"strict-origin-when-cross-origin\"\n",
    "    allowfullscreen>\n",
    "</iframe>\n",
    "\"\"\"\n",
    "    ))"
   ]
  }
 ],
 "metadata": {
  "kernelspec": {
   "display_name": "od_zera_do_ai",
   "language": "python",
   "name": "python3"
  },
  "language_info": {
   "codemirror_mode": {
    "name": "ipython",
    "version": 3
   },
   "file_extension": ".py",
   "mimetype": "text/x-python",
   "name": "python",
   "nbconvert_exporter": "python",
   "pygments_lexer": "ipython3",
   "version": "3.11.9"
  }
 },
 "nbformat": 4,
 "nbformat_minor": 2
}
