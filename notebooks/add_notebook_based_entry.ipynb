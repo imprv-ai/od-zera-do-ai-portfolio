{
 "cells": [
  {
   "cell_type": "code",
   "execution_count": 11,
   "metadata": {},
   "outputs": [],
   "source": [
    "from dotenv import dotenv_values\n",
    "from openai import OpenAI\n",
    "from pathlib import Path\n",
    "import json\n",
    "from nbconvert import HTMLExporter\n",
    "from nbconvert.writers import FilesWriter\n",
    "import nbformat"
   ]
  },
  {
   "cell_type": "code",
   "execution_count": 12,
   "metadata": {},
   "outputs": [],
   "source": [
    "env = dotenv_values(Path(\".\") / \"..\" / \".env\")"
   ]
  },
  {
   "cell_type": "code",
   "execution_count": 13,
   "metadata": {},
   "outputs": [],
   "source": [
    "openai_client = OpenAI(api_key=env[\"OPENAI_API_KEY\"])"
   ]
  },
  {
   "cell_type": "code",
   "execution_count": 14,
   "metadata": {},
   "outputs": [],
   "source": [
    "PROJECTS_PATH = Path(\".\") / \"..\" / \"docs\" / \"projects\""
   ]
  },
  {
   "cell_type": "code",
   "execution_count": 15,
   "metadata": {},
   "outputs": [],
   "source": [
    "# PAGE_PATH =  PROJECTS_PATH / \"titanic\" / \"history_of_survivability_and_secrets_of_shipbuilding\"\n",
    "# NOTEBOOK_NAME = \"titanic.ipynb\"\n",
    "# NOTEBOOK_PATH = PAGE_PATH / NOTEBOOK_NAME\n",
    "# HTML_NAME = \"titanic.html\"\n",
    "# HTML_PATH = PAGE_PATH / HTML_NAME\n",
    "\n",
    "# with open(PAGE_PATH / \"notes.txt\", \"r\") as f:\n",
    "#     NOTES = f.read()\n",
    "\n",
    "# AUTHOR_NAME = \"Rafal Ney\"\n",
    "# AUTHOR_LINK = \"/od-zera-do-ai-portfolio/uczestnicy/rafal_ney\""
   ]
  },
  {
   "cell_type": "code",
   "execution_count": null,
   "metadata": {},
   "outputs": [],
   "source": [
    "# PAGE_PATH =  PROJECTS_PATH / \"titanic\" / \"in_depth_analysis_eda\"\n",
    "# NOTEBOOK_NAME = \"titanic.ipynb\"\n",
    "# NOTEBOOK_PATH = PAGE_PATH / NOTEBOOK_NAME\n",
    "# HTML_NAME = \"titanic.html\"\n",
    "# HTML_PATH = PAGE_PATH / HTML_NAME\n",
    "\n",
    "# with open(PAGE_PATH / \"notes.txt\", \"r\") as f:\n",
    "#     NOTES = f.read()\n",
    "\n",
    "# AUTHOR_NAME = \"Natalia Swojak\"\n",
    "# AUTHOR_LINK = \"/od-zera-do-ai-portfolio/uczestnicy/natalia_swojak\""
   ]
  },
  {
   "cell_type": "markdown",
   "metadata": {},
   "source": [
    "## Konwertuj notebook -> html "
   ]
  },
  {
   "cell_type": "code",
   "execution_count": 17,
   "metadata": {},
   "outputs": [],
   "source": [
    "with open(NOTEBOOK_PATH) as f:\n",
    "    notebook = nbformat.read(f, as_version=4)\n",
    "\n",
    "html_exporter = HTMLExporter()\n",
    "(html_body, resources) = html_exporter.from_notebook_node(notebook)\n",
    "\n",
    "with open(HTML_PATH, 'w') as f:\n",
    "    f.write(html_body)"
   ]
  },
  {
   "cell_type": "markdown",
   "metadata": {},
   "source": [
    "## Opis projektu"
   ]
  },
  {
   "cell_type": "code",
   "execution_count": 7,
   "metadata": {},
   "outputs": [],
   "source": [
    "def add_title_and_description(text):\n",
    "\n",
    "    prompt = f\"\"\"\n",
    "Wygeneruj tytuł i opis do strony prezentującej projekt.\n",
    "Opis ma być wstępem przygotowującym czytelnika do zapoznania się z samym projektem.\n",
    "\n",
    "{text}\n",
    "    Zwróć obiekt JSON z kluczami \"title\" i \"description\".\n",
    "    \"\"\"\n",
    "\n",
    "    response = openai_client.chat.completions.create(\n",
    "        messages=[\n",
    "            {\"role\": \"user\", \"content\": prompt},\n",
    "        ],\n",
    "        model=\"gpt-4o\",\n",
    "        temperature=0,\n",
    "    )\n",
    "\n",
    "    result = response.choices[0].message.content.replace(\"```json\", \"\").replace(\"```\", \"\").strip()\n",
    "\n",
    "    return json.loads(result)"
   ]
  },
  {
   "cell_type": "code",
   "execution_count": 7,
   "metadata": {},
   "outputs": [],
   "source": [
    "title_and_desc = add_title_and_description(NOTES)"
   ]
  },
  {
   "cell_type": "markdown",
   "metadata": {},
   "source": [
    "## Wygeneruj index.md"
   ]
  },
  {
   "cell_type": "code",
   "execution_count": 10,
   "metadata": {},
   "outputs": [],
   "source": [
    "def render_content(title, description, author_name, author_link, notebook_link, html_link):\n",
    "\n",
    "    return f\"\"\"\n",
    "# {title}\n",
    "\n",
    "{description}\n",
    "\n",
    "**Autor**: [{author_name}]({author_link})\n",
    "\n",
    "<a href=\"{notebook_link}\" class=\"md-button md-button--primary\">Pobierz Notebook</a>\n",
    "\n",
    "<iframe\n",
    "    id=\"content\"\n",
    "    src=\"{html_link}\"\n",
    "    width=\"100%\"\n",
    "    style=\"border:1px solid black;overflow:hidden;\"\n",
    "></iframe>\n",
    "<script>\n",
    "function resizeIframeToFitContent(iframe) {{\n",
    "    iframe.style.height = (iframe.contentWindow.document.documentElement.scrollHeight + 50) + \"px\";\n",
    "    iframe.contentDocument.body.style[\"overflow\"] = 'hidden';\n",
    "}}\n",
    "window.addEventListener('load', function() {{\n",
    "    var iframe = document.getElementById('content');\n",
    "    resizeIframeToFitContent(iframe);\n",
    "}});\n",
    "window.addEventListener('resize', function() {{\n",
    "    var iframe = document.getElementById('content');\n",
    "    resizeIframeToFitContent(iframe);\n",
    "}});\n",
    "</script>\n",
    "\"\"\""
   ]
  },
  {
   "cell_type": "code",
   "execution_count": 11,
   "metadata": {},
   "outputs": [],
   "source": [
    "with open(\"index.md\", \"w\") as f:\n",
    "    f.write(render_content(\n",
    "        title=title_and_desc[\"title\"],\n",
    "        description=title_and_desc[\"description\"],\n",
    "        author_name=AUTHOR_NAME,\n",
    "        author_link=AUTHOR_LINK,\n",
    "        notebook_link=NOTEBOOK_NAME,\n",
    "        html_link=HTML_NAME,\n",
    "    ))"
   ]
  },
  {
   "cell_type": "code",
   "execution_count": null,
   "metadata": {},
   "outputs": [],
   "source": []
  }
 ],
 "metadata": {
  "kernelspec": {
   "display_name": ".venv",
   "language": "python",
   "name": "python3"
  },
  "language_info": {
   "codemirror_mode": {
    "name": "ipython",
    "version": 3
   },
   "file_extension": ".py",
   "mimetype": "text/x-python",
   "name": "python",
   "nbconvert_exporter": "python",
   "pygments_lexer": "ipython3",
   "version": "3.11.3"
  }
 },
 "nbformat": 4,
 "nbformat_minor": 2
}
